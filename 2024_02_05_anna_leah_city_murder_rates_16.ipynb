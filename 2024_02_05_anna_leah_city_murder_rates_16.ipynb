{
 "cells": [
  {
   "cell_type": "code",
   "execution_count": 11,
   "id": "d197b42a",
   "metadata": {},
   "outputs": [],
   "source": [
    "chicago_pop_16 = 2_705_000\n",
    "los_angeles_pop_16 = 3_976_000\n",
    "nyc_pop_16 = 8_538_000\n",
    "san_jose_pop_16 = 1_025_000\n",
    "\n",
    "chicago_murders_16 = 762\n",
    "los_angeles_murders_16 = 294\n",
    "nyc_murders_16 = 334\n",
    "san_jose_murders_16 = 47\n",
    "\n",
    "chicago_rate_16 = chicago_murders_16 / chicago_pop_16\n",
    "los_angeles_rate_16 = los_angeles_murders_16 / los_angeles_pop_16\n",
    "nyc_rate_16 = nyc_murders_16 / nyc_pop_16\n",
    "san_jose_rate_16 = san_jose_murders_16 / san_jose_pop_16"
   ]
  },
  {
   "cell_type": "code",
   "execution_count": 12,
   "id": "e6da51a7",
   "metadata": {},
   "outputs": [
    {
     "data": {
      "text/plain": [
       "7.394366197183098"
      ]
     },
     "execution_count": 12,
     "metadata": {},
     "output_type": "execute_result"
    }
   ],
   "source": [
    "los_angeles_rate_16*100_000"
   ]
  },
  {
   "cell_type": "code",
   "execution_count": 13,
   "id": "d6dc6993",
   "metadata": {},
   "outputs": [
    {
     "data": {
      "text/plain": [
       "3.911923167018037"
      ]
     },
     "execution_count": 13,
     "metadata": {},
     "output_type": "execute_result"
    }
   ],
   "source": [
    "nyc_rate_16*100_000"
   ]
  },
  {
   "cell_type": "code",
   "execution_count": 14,
   "id": "d49c7aab",
   "metadata": {},
   "outputs": [
    {
     "data": {
      "text/plain": [
       "4.585365853658536"
      ]
     },
     "execution_count": 14,
     "metadata": {},
     "output_type": "execute_result"
    }
   ],
   "source": [
    "san_jose_rate_16*100_000"
   ]
  },
  {
   "cell_type": "code",
   "execution_count": 15,
   "id": "4020d751",
   "metadata": {},
   "outputs": [
    {
     "data": {
      "text/plain": [
       "28.170055452865068"
      ]
     },
     "execution_count": 15,
     "metadata": {},
     "output_type": "execute_result"
    }
   ],
   "source": [
    "chicago_rate_16*100_000"
   ]
  },
  {
   "cell_type": "code",
   "execution_count": 17,
   "id": "815828f5",
   "metadata": {},
   "outputs": [
    {
     "name": "stdout",
     "output_type": "stream",
     "text": [
      "New York City has a murder rate of 3.911923167018037 per 100,000 people while Chicago has a much higher murder rate of 28.170055452865068 per 100,000 residents\n"
     ]
    }
   ],
   "source": [
    "print(f\"New York City has a murder rate of {nyc_rate_16*100_000} per 100,000 people \\\n",
    "while Chicago has a much higher murder rate of {chicago_rate_16*100_000} per 100,000 residents\")"
   ]
  },
  {
   "cell_type": "code",
   "execution_count": null,
   "id": "91338927",
   "metadata": {},
   "outputs": [],
   "source": []
  }
 ],
 "metadata": {
  "kernelspec": {
   "display_name": "Python 3 (ipykernel)",
   "language": "python",
   "name": "python3"
  },
  "language_info": {
   "codemirror_mode": {
    "name": "ipython",
    "version": 3
   },
   "file_extension": ".py",
   "mimetype": "text/x-python",
   "name": "python",
   "nbconvert_exporter": "python",
   "pygments_lexer": "ipython3",
   "version": "3.11.5"
  }
 },
 "nbformat": 4,
 "nbformat_minor": 5
}
